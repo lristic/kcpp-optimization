{
 "cells": [
  {
   "cell_type": "markdown",
   "metadata": {},
   "source": [
    "## Problem K-Kineskih poštara\n",
    "\n",
    "Problem k-kineskih poštara *(Minimum k-Chinese Postman Problem, k-CPP)* je poznati problem kombinatorne optimizacije, izveden je iz problema kineskog poštara *(The Chinese Postman Problem - CPP)* koji je definisao kineski matematičar Guan još 1960. godine.\n",
    "\n",
    "Problem k-Kineskih poštara adresira potrebu iz stvarnog sveta da poštanska ustanova želi da na jedan teren pošalje više od jednog poštara. Stoga se i cilj menja, potrebno je minimizirati ukupnu dužinu puta koju prelaze svi poštari zajedno.\n",
    "\n",
    "### Ulazni parametri\n",
    "\n",
    "Problem k-Kineskih poštara adresira potrebu iz stvarnog sveta da poštanska ustanova želi da na jedan teren pošalje više od jednog poštara. \n",
    "\n",
    "Kao ulazne parametre ćemo imati neusmeren graf *G=(V, E)*, težine grana *w*, polazni čvor *s* i broj poštara *k*. Cilj je da se svaka grana obiđe bar jednom, ali tako da svaki poštar ima približno jednaku rutu. S obzirom da rešavamo NP-tešku varijantu problema, potrebno je minimizovati najdužu od k ruta.\n",
    "\n",
    "### Algoritam grube sile\n",
    "\n",
    "Pomoću funkcije *find_all_cycles(graph, start, end)* ćemo pronaći sve cikluse u zadatom grafu. Parametri koje prima funkcija su:\n",
    "\n",
    "- *graph* - početni graf predstavljen kao rečnik\n",
    "- *start* - početni čvor\n",
    "- *end* - krajnji čvor\n",
    "\n",
    "Izlaz funkcije su svi ciklusi koji postoje u grafu."
   ]
  },
  {
   "cell_type": "code",
   "execution_count": 10,
   "metadata": {},
   "outputs": [],
   "source": [
    "# Funkcija koja pronalazi svaki ciklus u grafu\n",
    "def find_all_cycles(graph, start, end):\n",
    "    fringe = [(start, [])]\n",
    "    while fringe:\n",
    "        state, path = fringe.pop()\n",
    "        if path and state == end:\n",
    "            yield path\n",
    "            continue\n",
    "        for next_state in graph[state]:\n",
    "            if next_state in path:\n",
    "                continue\n",
    "            fringe.append((next_state, path+[next_state]))"
   ]
  },
  {
   "cell_type": "markdown",
   "metadata": {},
   "source": [
    "Za predstavljanje grafa koristićemo rečnike *nodes* i *edges*:\n",
    "\n",
    "- *nodes* - rečnik oblika čvor: lista_suseda\n",
    "- *edges* - rečnik oblika čvor: cena_do_suseda\n",
    "\n",
    "Oba rečnika su organizovana tako da i-ti član rečnika *nodes* odgovara i-tom članu rečnika *edges*. Tačnije, cena do suseda *n<sub>i</sub>* (iz rečnika *nodes*) je *e<sub>i</sub>* (iz rečnika *edges*)."
   ]
  },
  {
   "cell_type": "code",
   "execution_count": null,
   "metadata": {},
   "outputs": [],
   "source": [
    "# Susedi svakog čvora u grafu\n",
    "nodes = { \n",
    "    1: [2, 3, 7], \n",
    "    2: [1, 3, 4, 5], \n",
    "    3: [1, 2, 4, 5], \n",
    "    4: [2, 3, 6, 7, 8], \n",
    "    5: [2, 3, 6, 8],\n",
    "    6: [4, 5, 8],\n",
    "    7: [1, 4, 8],\n",
    "    8: [4, 5, 6, 7]\n",
    "}\n",
    "\n",
    "# Cene iz čvorova ka čvorovima koji su navedeni iznad\n",
    "edges = {\n",
    "    1: [38, 1, 2],\n",
    "    2: [38, 8, 10, 13],\n",
    "    3: [1, 8, 26, 2],\n",
    "    4: [10, 26, 8, 24, 1],\n",
    "    5: [13, 2, 1, 7],\n",
    "    6: [8, 1, 7],\n",
    "    7: [2, 24, 27],\n",
    "    8: [1, 7, 7, 27]\n",
    "}"
   ]
  },
  {
   "cell_type": "markdown",
   "metadata": {},
   "source": [
    "S obzirom da funkcija *find_all_cycles* vraća sve cikluse u grafu, pomoću funkcije *same_start_end* izolujemo samo one koji počinju i završavaju se čvorom 1. \n",
    "Izlaz iz funkcije je lista ruta koje počinju i završavaju se čvorom 1."
   ]
  },
  {
   "cell_type": "code",
   "execution_count": null,
   "metadata": {},
   "outputs": [],
   "source": [
    "# Funkcija koja vraća samo cikluse koji kreću i završavaju se u čvoru 1\n",
    "def same_start_end(cycles):\n",
    "    result_cycles = []\n",
    "    for i in range(len(cycles)):\n",
    "        if cycles[i][0] == 1 and cycles[i][-1] == 1:\n",
    "            result_cycles.append(cycles[i])\n",
    "    return result_cycles"
   ]
  },
  {
   "cell_type": "markdown",
   "metadata": {},
   "source": [
    "Nakon toga, pomoću funkcije *calculate_paths* računamo ukupnu cenu svih tih ciklusa. Izlaz iz funkcije je lista parova (putanja, cena)."
   ]
  },
  {
   "cell_type": "code",
   "execution_count": null,
   "metadata": {},
   "outputs": [],
   "source": [
    "# Funkcija koja računa cenu ture\n",
    "def calculate_paths(cycles, edges):\n",
    "    calculated_paths = []\n",
    "    # Prolazimo kroz sve cikluse koji počinju i završavaju se sa 1\n",
    "    for i in range(len(cycles)):\n",
    "        path_cost = 0\n",
    "        # Prolazimo kroz elemente jednog ciklusa\n",
    "        for j in range(len(cycles[i])):\n",
    "            if j != len(cycles[i]) - 1:\n",
    "                current_node = cycles[i][j] # trenutni čvor\n",
    "                index_of_cost = nodes[current_node].index(cycles[i][j+1]) # tražimo indeks suseda trenutnog čvora\n",
    "                cost_to_add   = edges[cycles[i][j]][index_of_cost] # na osnovu indeksa, uzimamo cenu puta do tog suseda\n",
    "                path_cost += cost_to_add # dodajemo tu cenu na ukupnu cenu ture\n",
    "        \n",
    "        calculated_paths.append((cycles[i], path_cost))\n",
    "    \n",
    "    \n",
    "    return calculated_paths"
   ]
  },
  {
   "cell_type": "markdown",
   "metadata": {},
   "source": [
    "Konačno, implementiramo funkciju *kcpp(calculated_paths, k_postmen)* koja prima listu parova (putanja, cena) i broj poštara koji treba da obiđu graf. \n",
    "Rezultat je lista k putanja i njihovih cena, kao i lista čvorova koje su poštari obišli (potrebno je da na ovom spisku budu svi čvorovi)."
   ]
  },
  {
   "cell_type": "code",
   "execution_count": 13,
   "metadata": {},
   "outputs": [
    {
     "data": {
      "text/plain": [
       "([([1, 7, 4, 8, 6, 5, 2, 3, 1], 57), ([1, 7, 8, 4, 2, 5, 3, 1], 56)],\n",
       " [1, 2, 3, 4, 5, 6, 7, 8])"
      ]
     },
     "execution_count": 13,
     "metadata": {},
     "output_type": "execute_result"
    }
   ],
   "source": [
    "import random\n",
    "\n",
    "depot_node_cycles = same_start_end(cycles)\n",
    "k_postmen = 3\n",
    "calculated_paths = calculate_paths(depot_node_cycles, edges)\n",
    "\n",
    "def kcpp(calculated_paths, k_postmen):\n",
    "    final_paths = []\n",
    "    cities_visited = []\n",
    "    \n",
    "    for i in range(k_postmen):\n",
    "        \n",
    "        # Slučajnim izborom biramo jednu od putanja\n",
    "        random_path_index = random.randrange(0, len(calculated_paths))\n",
    "        chosen_path = calculated_paths[random_path_index]\n",
    "        final_paths.append(chosen_path)\n",
    "        \n",
    "        # Za svaki čvor proveravamo da li je posećen i ukoliko nije, dodajemo ga u spisak posećenih\n",
    "        for node in chosen_path[0]:\n",
    "            if node not in cities_visited:\n",
    "                cities_visited.append(node)\n",
    "        \n",
    "        # Ukoliko do poslednjeg poštara nismo obišli sve čvorove, potrebno je da on obiđe ostatak\n",
    "        if i == k_postmen-1:\n",
    "            cities_visited.sort()\n",
    "            while cities_visited != list(nodes):\n",
    "                last_path = final_paths[-1]\n",
    "                final_paths.remove(last_path)\n",
    "                random_path_index = random.randrange(0, len(calculated_paths))\n",
    "                chosen_path = calculated_paths[random_path_index]\n",
    "                final_paths.append(chosen_path)\n",
    "                for node in chosen_path[0]:\n",
    "                    if node not in cities_visited:\n",
    "                        cities_visited.append(node)\n",
    "            \n",
    "            \n",
    "    return final_paths, cities_visited\n",
    "\n",
    "kcpp(calculated_paths, 2)"
   ]
  },
  {
   "cell_type": "markdown",
   "metadata": {},
   "source": [
    "Dalji cilj je optimizovati najdužu od putanja."
   ]
  },
  {
   "cell_type": "code",
   "execution_count": null,
   "metadata": {},
   "outputs": [],
   "source": []
  }
 ],
 "metadata": {
  "kernelspec": {
   "display_name": "Python 3",
   "language": "python",
   "name": "python3"
  },
  "language_info": {
   "codemirror_mode": {
    "name": "ipython",
    "version": 3
   },
   "file_extension": ".py",
   "mimetype": "text/x-python",
   "name": "python",
   "nbconvert_exporter": "python",
   "pygments_lexer": "ipython3",
   "version": "3.7.0"
  }
 },
 "nbformat": 4,
 "nbformat_minor": 4
}
